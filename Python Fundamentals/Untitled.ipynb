{
 "cells": [
  {
   "cell_type": "code",
   "execution_count": null,
   "id": "b6ffa49e",
   "metadata": {},
   "outputs": [],
   "source": [
    "def check_list_o_matic(animal_list):\n",
    "    def list_o_matic(animal_list,usinp):\n",
    "        if usinp==\"\":\n",
    "            return print(animal_list.pop(),\"popped from list \\nLook at the after list: \",animal_list)\n",
    "        else:\n",
    "            if usinp in animal_list:\n",
    "                animal_list.remove(usinp)\n",
    "                print(\"\\n1 instance of\",\"'\"+usinp+\"'\",\"has been removed from the list\")\n",
    "                print(animal_list)\n",
    "            else:\n",
    "                animal_list.append(usinp)\n",
    "                print(\"\\n1 instance of\",\"'\"+usinp+\"'\",\"has been appended to the list\")\n",
    "                print(animal_list)\n",
    "\n",
    "\n",
    "    while True:\n",
    "        if animal_list==[]:\n",
    "            print(\"\\nGOODBYE!!!\")\n",
    "            break\n",
    "        else:\n",
    "            print(\"\\nList of Animals: \",animal_list)\n",
    "            usinp=input(\"Enter an animal or 'quit' to end!! :  \")\n",
    "            \n",
    "            if usinp==\"quit\":\n",
    "                print(\"Goodbye! \\n\")\n",
    "                print(animal_list)\n",
    "                break\n",
    "            else:\n",
    "                list_o_matic(animal_list,usinp)\n",
    "\n",
    "list_animal=[\"cat\",\"monkey\",\"goose\"]\n",
    "check_list_o_matic(list_animal)\n"
   ]
  },
  {
   "cell_type": "code",
   "execution_count": null,
   "id": "f27adffb",
   "metadata": {},
   "outputs": [],
   "source": []
  },
  {
   "cell_type": "code",
   "execution_count": null,
   "id": "0c4f4e54",
   "metadata": {},
   "outputs": [],
   "source": []
  }
 ],
 "metadata": {
  "kernelspec": {
   "display_name": "Python 3",
   "language": "python",
   "name": "python3"
  },
  "language_info": {
   "codemirror_mode": {
    "name": "ipython",
    "version": 3
   },
   "file_extension": ".py",
   "mimetype": "text/x-python",
   "name": "python",
   "nbconvert_exporter": "python",
   "pygments_lexer": "ipython3",
   "version": "3.8.8"
  }
 },
 "nbformat": 4,
 "nbformat_minor": 5
}
