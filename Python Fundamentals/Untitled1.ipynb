{
 "cells": [
  {
   "cell_type": "code",
   "execution_count": null,
   "id": "7240e513",
   "metadata": {},
   "outputs": [],
   "source": []
  },
  {
   "cell_type": "code",
   "execution_count": null,
   "id": "7648056f",
   "metadata": {},
   "outputs": [
    {
     "name": "stdout",
     "output_type": "stream",
     "text": [
      "Please enter a poem: Little fly, Thy summer’s play My thoughtless hand Has brushed away. Am not I A fly like thee? Or art not thou A man like me?\n",
      "['art', 'away.', 'fly,', 'has', 'like']\n"
     ]
    }
   ],
   "source": [
    "index = 0\n",
    "poem_input = input(\"Please enter a poem: \")\n",
    "list_input = poem_input.split()\n",
    "scrambled_poem = []\n",
    "list_new = [] \n",
    " \n",
    "while index < len(list_input):\n",
    "    if len(list_input[index]) < 4:\n",
    "        scrambled_poem.append(list_input[index].lower())\n",
    "        index += 1\n",
    "    elif len(list_input[index]) > 6:\n",
    "        scrambled_poem.append(list_input[index].upper())\n",
    "        index += 1\n",
    "    else:\n",
    "        scrambled_poem.append(list_input[index])\n",
    "        index += 1\n",
    "         \n",
    "def word_mixer(scrambled_poem):\n",
    "    scrambled_poem.sort()\n",
    "    while len(scrambled_poem) > 5:\n",
    "        list_new.append(scrambled_poem.pop(-5))\n",
    "        list_new.append(scrambled_poem.pop(0))\n",
    "        list_new.append(scrambled_poem.pop()+\"\\n\")\n",
    "        joined_text = \" \".join(list_new)\n",
    "         \n",
    "    print(scrambled_poem)\n",
    "    \n",
    "test = word_mixer(scrambled_poem)\n",
    "\n",
    "input('Press ENTER to exit')\n"
   ]
  },
  {
   "cell_type": "code",
   "execution_count": null,
   "id": "7d890cbe",
   "metadata": {},
   "outputs": [],
   "source": []
  }
 ],
 "metadata": {
  "kernelspec": {
   "display_name": "Python 3",
   "language": "python",
   "name": "python3"
  },
  "language_info": {
   "codemirror_mode": {
    "name": "ipython",
    "version": 3
   },
   "file_extension": ".py",
   "mimetype": "text/x-python",
   "name": "python",
   "nbconvert_exporter": "python",
   "pygments_lexer": "ipython3",
   "version": "3.8.8"
  }
 },
 "nbformat": 4,
 "nbformat_minor": 5
}
