{
 "cells": [
  {
   "cell_type": "markdown",
   "metadata": {
    "collapsed": true
   },
   "source": [
    "#  Module 1 Required Coding Activity  \n",
    "Introduction to Python Unit 1\n",
    "\n",
    "This is an activity from the Jupyter Notebook **`Practice_MOD01_1-2_IntroPy.ipynb`** which you may have already completed.\n",
    "\n",
    "> **NOTE:** This program requires print output and code syntax used in module 1\n",
    "\n",
    "| Some Assignment Requirements |  \n",
    "|:-------------------------------|  \n",
    "| **NOTE:** This program requires `print` output and using code syntax used in module 1 such as variable assignment, `input`, `in` keyword, `.lower()` or `.upper()` method  |  \n",
    "\n",
    "\n",
    "## Program: Allergy Check  \n",
    "\n",
    "1. **[ ]** get user **`input`** for categories of food eaten in the last 24 hours  \n",
    " save in a variable called **input_test**  \n",
    " *example input*\n",
    " [![01 02 practice Allergy-input](https://iajupyterprodblobs.blob.core.windows.net/imagecontainer/eaten_input.gif) ](https://1drv.ms/i/s!Am_KPRosgtaij65qzFD5CGvv95-ijg)\n",
    "&nbsp;  \n",
    "2. **[ ]** print **`True`** if \"dairy\" is in the **input_test** string  \n",
    "**[ ]** Test the code so far  \n",
    "&nbsp;\n",
    "3. **[ ]** modify the print statement to output similar to below  \n",
    "*example output*\n",
    "[![01 02 Allergy output](https://iajupyterprodblobs.blob.core.windows.net/imagecontainer/eaten_output.gif) ](https://1drv.ms/i/s!Am_KPRosgtaij65rET-wmlpCdMX7CQ)  \n",
    "Test the code so far trying input including the string \"dairy\" and without  \n",
    "&nbsp;  \n",
    "\n",
    "4. **[ ]** repeat the process checking the input for \"nuts\", **challenge** add \"Seafood\" and \"chocolate\"  \n",
    "**[ ]** Test your code  \n",
    "&nbsp;  \n",
    "  \n",
    "5. **[ ] challenge:** make your code work for input regardless of case, e.g. - print **`True`** for \"Nuts\", \"NuTs\", \"NUTS\" or \"nuts\"  \n"
   ]
  },
  {
   "cell_type": "code",
   "execution_count": 39,
   "metadata": {},
   "outputs": [
    {
     "name": "stdout",
     "output_type": "stream",
     "text": [
      "food eaten in last 24 hours?dairy milk food\n",
      "Dairy true\n",
      "Nuts false\n",
      "Seafood false\n",
      "Chocolate false\n",
      "Press ENTER to exit\n"
     ]
    },
    {
     "data": {
      "text/plain": [
       "''"
      ]
     },
     "execution_count": 39,
     "metadata": {},
     "output_type": "execute_result"
    }
   ],
   "source": [
    "# Create Allergy check code\n",
    "\n",
    "# [ ] get input for input_test variable\n",
    "food_eaten = input(\"food eaten in last 24 hours?\")\n",
    "\n",
    "\n",
    "# [ ] print \"True\" message if \"dairy\" is in the input or False message if not\n",
    "if 'dairy' in food_eaten: \n",
    "    print ('Dairy true')\n",
    "else:\n",
    "    print ('Dairy false')\n",
    "\n",
    "# [ ] print True message if \"nuts\" is in the input or False if not\n",
    "if 'nuts' in food_eaten: \n",
    "    print ('Nuts true')\n",
    "else:\n",
    "    print ('Nuts false')\n",
    "\n",
    "# [ ] Challenge: Check if \"seafood\" is in the input - print message\n",
    "if 'seafood' in food_eaten: \n",
    "    print ('Seafood true')\n",
    "else:\n",
    "    print ('Seafood false')\n",
    "# [ ] Challenge: Check if \"chocolate\" is in the input - print message\n",
    "if 'chocolate' in food_eaten: \n",
    "    print ('Chocolate true')\n",
    "else:\n",
    "    print ('Chocolate false')\n",
    "    \n",
    "input('Press ENTER to exit')\n",
    "   "
   ]
  },
  {
   "cell_type": "markdown",
   "metadata": {},
   "source": [
    "Submit this by creating a python file (.py) and submitting it in D2L. Be sure to test that it works."
   ]
  },
  {
   "cell_type": "code",
   "execution_count": null,
   "metadata": {},
   "outputs": [],
   "source": []
  }
 ],
 "metadata": {
  "kernelspec": {
   "display_name": "Python 3",
   "language": "python",
   "name": "python3"
  },
  "language_info": {
   "codemirror_mode": {
    "name": "ipython",
    "version": 3
   },
   "file_extension": ".py",
   "mimetype": "text/x-python",
   "name": "python",
   "nbconvert_exporter": "python",
   "pygments_lexer": "ipython3",
   "version": "3.8.8"
  }
 },
 "nbformat": 4,
 "nbformat_minor": 1
}
