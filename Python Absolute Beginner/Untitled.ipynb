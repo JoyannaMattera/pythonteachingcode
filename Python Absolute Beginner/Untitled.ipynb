{
 "cells": [
  {
   "cell_type": "code",
   "execution_count": null,
   "id": "fed6ff10",
   "metadata": {},
   "outputs": [],
   "source": [
    "def str_analysis(s):\n",
    "\n",
    "   if s.isdigit():\n",
    "\n",
    "       s = int(s)\n",
    "\n",
    "       if s > 99:\n",
    "\n",
    "           message = str(s) + \" is a pretty big number\"\n",
    "\n",
    "       else:\n",
    "\n",
    "           message = str(s) + \" is a smaller number than expected\"\n",
    "\n",
    "       \n",
    "\n",
    "   elif s.isalpha():\n",
    "\n",
    "       message = s + \" is all alphabetical characters!\"\n",
    "\n",
    "   else:\n",
    "\n",
    "           message = \"There are multiple character types\"\n",
    "\n",
    "   \n",
    "\n",
    "   return message;\n",
    "\n",
    "   \n",
    "\n",
    "s = input(\"Enter word or integer: \")\n",
    "\n",
    "while s != \"\":\n",
    "\n",
    "   print(str_analysis(s))\n",
    "\n",
    "   s = input(\"Enter word or integer: \")"
   ]
  }
 ],
 "metadata": {
  "kernelspec": {
   "display_name": "Python 3",
   "language": "python",
   "name": "python3"
  },
  "language_info": {
   "codemirror_mode": {
    "name": "ipython",
    "version": 3
   },
   "file_extension": ".py",
   "mimetype": "text/x-python",
   "name": "python",
   "nbconvert_exporter": "python",
   "pygments_lexer": "ipython3",
   "version": "3.8.8"
  }
 },
 "nbformat": 4,
 "nbformat_minor": 5
}
